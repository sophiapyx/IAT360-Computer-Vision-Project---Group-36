{
  "nbformat": 4,
  "nbformat_minor": 0,
  "metadata": {
    "colab": {
      "provenance": [],
      "authorship_tag": "ABX9TyO8WMso2+S7u7lhjyMaPaXC",
      "include_colab_link": true
    },
    "kernelspec": {
      "name": "python3",
      "display_name": "Python 3"
    },
    "language_info": {
      "name": "python"
    }
  },
  "cells": [
    {
      "cell_type": "markdown",
      "metadata": {
        "id": "view-in-github",
        "colab_type": "text"
      },
      "source": [
        "<a href=\"https://colab.research.google.com/github/sophiapyx/IAT360-Computer-Vision-Project---Group-36/blob/main/Computer_Vision_Project_Group_36.ipynb\" target=\"_parent\"><img src=\"https://colab.research.google.com/assets/colab-badge.svg\" alt=\"Open In Colab\"/></a>"
      ]
    },
    {
      "cell_type": "code",
      "source": [
        "import os\n",
        "import json\n",
        "from PIL import Image\n",
        "\n",
        "base_dir = \"Desktop/datasets_cat\"\n",
        "output_dir = os.path.join(base_dir, \"converted_yolo\")\n",
        "\n",
        "class_map = {\"pain\": 1, \"no_pain\": 0}\n",
        "valid_exts = (\".png\", \".jpg\", \".jpeg\")\n",
        "\n",
        "os.makedirs(output_dir, exist_ok=True)\n",
        "for cls in class_map:\n",
        "    os.makedirs(os.path.join(output_dir, cls, \"images\"), exist_ok=True)\n",
        "    os.makedirs(os.path.join(output_dir, cls, \"labels\"), exist_ok=True)\n",
        "\n",
        "def convert_bbox_to_yolo(bbox, img_w, img_h):\n",
        "    x_min, y_min, x_max, y_max = bbox\n",
        "    x_c = (x_min + x_max) / 2.0 / img_w\n",
        "    y_c = (y_min + y_max) / 2.0 / img_h\n",
        "    w   = (x_max - x_min) / img_w\n",
        "    h   = (y_max - y_min) / img_h\n",
        "    return x_c, y_c, w, h\n",
        "\n",
        "for cls_name, cls_id in class_map.items():\n",
        "    img_dir = os.path.join(base_dir, cls_name, \"images\")\n",
        "    label_dir = os.path.join(base_dir, cls_name, \"labels\")\n",
        "    out_img_dir = os.path.join(output_dir, cls_name, \"images\")\n",
        "    out_lbl_dir = os.path.join(output_dir, cls_name, \"labels\")\n",
        "\n",
        "    for fname in os.listdir(img_dir):\n",
        "        lf = fname.lower()\n",
        "        if not lf.endswith(valid_exts):\n",
        "            continue\n",
        "\n",
        "        base = os.path.splitext(fname)[0]\n",
        "        img_path = os.path.join(img_dir, fname)\n",
        "        json_path = os.path.join(label_dir, base + \".json\")\n",
        "\n",
        "\n",
        "        with Image.open(img_path) as im:\n",
        "            w, h = im.size\n",
        "\n",
        "\n",
        "        with open(json_path, \"r\") as f:\n",
        "            data = json.load(f)\n",
        "        bbox = data[\"bounding_boxes\"]\n",
        "\n",
        "\n",
        "        x_c, y_c, bw, bh = convert_bbox_to_yolo(bbox, w, h)\n",
        "        with open(os.path.join(out_lbl_dir, base + \".txt\"), \"w\") as f:\n",
        "            f.write(f\"{cls_id} {x_c:.6f} {y_c:.6f} {bw:.6f} {bh:.6f}\\n\")\n",
        "\n",
        "\n",
        "        with Image.open(img_path) as im:\n",
        "            im.save(os.path.join(out_img_dir, fname))\n"
      ],
      "metadata": {
        "id": "K_jmFttBK48i"
      },
      "execution_count": null,
      "outputs": []
    },
    {
      "cell_type": "code",
      "source": [
        "from google.colab import drive\n",
        "drive.mount('/content/gdrive')"
      ],
      "metadata": {
        "id": "qxzVMe7NjSVj",
        "outputId": "b53896dc-add6-4cce-fc95-a55444233d04",
        "colab": {
          "base_uri": "https://localhost:8080/"
        }
      },
      "execution_count": 3,
      "outputs": [
        {
          "output_type": "stream",
          "name": "stdout",
          "text": [
            "Mounted at /content/gdrive\n"
          ]
        }
      ]
    },
    {
      "cell_type": "code",
      "source": [
        "import os\n",
        "\n",
        "DATASET_ROOT = \"/content/gdrive/MyDrive/Colab Notebooks/datasets cat\"\n",
        "\n",
        "IMAGES_PATH = os.path.join(DATASET_ROOT, \"images\")\n",
        "LABELS_PATH = os.path.join(DATASET_ROOT, \"labels\")\n",
        "\n",
        "if os.path.exists(IMAGES_PATH):\n",
        "    all_files = os.listdir(IMAGES_PATH)\n",
        "\n",
        "    target_extensions = ('.jpg', '.png', '.jpeg')\n",
        "\n",
        "    image_files = [f for f in all_files if not f.startswith('.') and f.lower().endswith(target_extensions)]\n",
        "    print(f\"images total: {len(image_files)}\")\n",
        "\n",
        "\n",
        "if os.path.exists(LABELS_PATH):\n",
        "    all_files = os.listdir(LABELS_PATH)\n",
        "\n",
        "    target_extensions = ('.txt',)\n",
        "\n",
        "    label_files = [f for f in all_files if not f.startswith('.') and f.lower().endswith(target_extensions)]\n",
        "    print(f\"labels total: {len(label_files)}\")"
      ],
      "metadata": {
        "id": "pv1yN1J2jjaH",
        "outputId": "5adea1ce-8617-4699-937b-d3ad06047c8f",
        "colab": {
          "base_uri": "https://localhost:8080/"
        }
      },
      "execution_count": 10,
      "outputs": [
        {
          "output_type": "stream",
          "name": "stdout",
          "text": [
            "images total: 1039\n",
            "labels total: 1039\n"
          ]
        }
      ]
    },
    {
      "cell_type": "code",
      "source": [
        "!pip3 install ultralytics\n",
        "import ultralytics\n",
        "ultralytics.checks()"
      ],
      "metadata": {
        "colab": {
          "base_uri": "https://localhost:8080/"
        },
        "id": "Ik-3rJR9k-_Y",
        "outputId": "b69e5337-836c-44bc-a982-2c81e356bc04"
      },
      "execution_count": 1,
      "outputs": [
        {
          "output_type": "stream",
          "name": "stdout",
          "text": [
            "Ultralytics 8.3.220 🚀 Python-3.12.12 torch-2.8.0+cu126 CPU (Intel Xeon CPU @ 2.20GHz)\n",
            "Setup complete ✅ (2 CPUs, 12.7 GB RAM, 39.7/107.7 GB disk)\n"
          ]
        }
      ]
    },
    {
      "cell_type": "code",
      "source": [
        "import ultralytics\n",
        "print(\"YOLOv8\", ultralytics.__version__)"
      ],
      "metadata": {
        "id": "Ejn0Tnk4jIcN",
        "outputId": "ac6ec948-1f68-42c8-b04b-204cb8845d6e",
        "colab": {
          "base_uri": "https://localhost:8080/"
        }
      },
      "execution_count": 2,
      "outputs": [
        {
          "output_type": "stream",
          "name": "stdout",
          "text": [
            "YOLOv8 8.3.220\n"
          ]
        }
      ]
    },
    {
      "cell_type": "code",
      "source": [
        "\n",
        "import ultralytics\n",
        "from ultralytics import YOLO\n",
        "\n",
        "ultralytics.checks()\n",
        "\n",
        "print(\"\\n--- YOLOv8 Environmental inspection completed (CPU) ---\")"
      ],
      "metadata": {
        "id": "nkBA0_B3m9qd",
        "outputId": "d3b5ae6a-55b0-4d03-a151-8a952cee9c01",
        "colab": {
          "base_uri": "https://localhost:8080/"
        }
      },
      "execution_count": 16,
      "outputs": [
        {
          "output_type": "stream",
          "name": "stdout",
          "text": [
            "Ultralytics 8.3.220 🚀 Python-3.12.12 torch-2.8.0+cu126 CPU (Intel Xeon CPU @ 2.20GHz)\n",
            "Setup complete ✅ (2 CPUs, 12.7 GB RAM, 39.7/107.7 GB disk)\n",
            "\n",
            "--- YOLOv8 Environmental inspection completed (CPU) ---\n"
          ]
        }
      ]
    }
  ]
}