{
  "nbformat": 4,
  "nbformat_minor": 0,
  "metadata": {
    "colab": {
      "provenance": [],
      "authorship_tag": "ABX9TyOx9wvilwiyX6NLRYLbqca8",
      "include_colab_link": true
    },
    "kernelspec": {
      "name": "python3",
      "display_name": "Python 3"
    },
    "language_info": {
      "name": "python"
    }
  },
  "cells": [
    {
      "cell_type": "markdown",
      "metadata": {
        "id": "view-in-github",
        "colab_type": "text"
      },
      "source": [
        "<a href=\"https://colab.research.google.com/github/sophiapyx/IAT360-Computer-Vision-Project---Group-36/blob/main/Computer_Vision_Project_Group_36.ipynb\" target=\"_parent\"><img src=\"https://colab.research.google.com/assets/colab-badge.svg\" alt=\"Open In Colab\"/></a>"
      ]
    },
    {
      "cell_type": "code",
      "source": [
        "import os\n",
        "import json\n",
        "from PIL import Image\n",
        "\n",
        "base_dir = \"Desktop/datasets_cat\"\n",
        "output_dir = os.path.join(base_dir, \"converted_yolo\")\n",
        "\n",
        "class_map = {\"pain\": 1, \"no_pain\": 0}\n",
        "valid_exts = (\".png\", \".jpg\", \".jpeg\")\n",
        "\n",
        "os.makedirs(output_dir, exist_ok=True)\n",
        "for cls in class_map:\n",
        "    os.makedirs(os.path.join(output_dir, cls, \"images\"), exist_ok=True)\n",
        "    os.makedirs(os.path.join(output_dir, cls, \"labels\"), exist_ok=True)\n",
        "\n",
        "def convert_bbox_to_yolo(bbox, img_w, img_h):\n",
        "    x_min, y_min, x_max, y_max = bbox\n",
        "    x_c = (x_min + x_max) / 2.0 / img_w\n",
        "    y_c = (y_min + y_max) / 2.0 / img_h\n",
        "    w   = (x_max - x_min) / img_w\n",
        "    h   = (y_max - y_min) / img_h\n",
        "    return x_c, y_c, w, h\n",
        "\n",
        "for cls_name, cls_id in class_map.items():\n",
        "    img_dir = os.path.join(base_dir, cls_name, \"images\")\n",
        "    label_dir = os.path.join(base_dir, cls_name, \"labels\")\n",
        "    out_img_dir = os.path.join(output_dir, cls_name, \"images\")\n",
        "    out_lbl_dir = os.path.join(output_dir, cls_name, \"labels\")\n",
        "\n",
        "    for fname in os.listdir(img_dir):\n",
        "        lf = fname.lower()\n",
        "        if not lf.endswith(valid_exts):\n",
        "            continue\n",
        "\n",
        "        base = os.path.splitext(fname)[0]\n",
        "        img_path = os.path.join(img_dir, fname)\n",
        "        json_path = os.path.join(label_dir, base + \".json\")\n",
        "\n",
        "\n",
        "        with Image.open(img_path) as im:\n",
        "            w, h = im.size\n",
        "\n",
        "\n",
        "        with open(json_path, \"r\") as f:\n",
        "            data = json.load(f)\n",
        "        bbox = data[\"bounding_boxes\"]\n",
        "\n",
        "\n",
        "        x_c, y_c, bw, bh = convert_bbox_to_yolo(bbox, w, h)\n",
        "        with open(os.path.join(out_lbl_dir, base + \".txt\"), \"w\") as f:\n",
        "            f.write(f\"{cls_id} {x_c:.6f} {y_c:.6f} {bw:.6f} {bh:.6f}\\n\")\n",
        "\n",
        "\n",
        "        with Image.open(img_path) as im:\n",
        "            im.save(os.path.join(out_img_dir, fname))\n"
      ],
      "metadata": {
        "id": "K_jmFttBK48i"
      },
      "execution_count": 11,
      "outputs": []
    },
    {
      "cell_type": "code",
      "source": [
        "!pip3 install ultralytics\n",
        "import ultralytics\n",
        "ultralytics.checks()"
      ],
      "metadata": {
        "colab": {
          "base_uri": "https://localhost:8080/"
        },
        "id": "Ik-3rJR9k-_Y",
        "outputId": "5c7c3cb0-88a1-4b5c-d2bb-f72b22d396eb"
      },
      "execution_count": 14,
      "outputs": [
        {
          "output_type": "stream",
          "name": "stdout",
          "text": [
            "Ultralytics 8.3.220 🚀 Python-3.13.7 torch-2.9.0 CPU (Apple M2)\n",
            "Setup complete ✅ (8 CPUs, 8.0 GB RAM, 124.6/228.3 GB disk)\n"
          ]
        }
      ]
    },
    {
      "cell_type": "code",
      "source": [
        "# Run inference on an image with YOLOv8n\n",
        "\n",
        "# Detection:\n",
        "!yolo predict model=yolov8n.pt source='https://ultralytics.com/images/zidane.jpg'\n",
        "!yolo predict model=yolov8n.pt source='https://www.thoughtco.com/thmb/Hw83C2QW8dWeDUt7R4pYyPke3HI=/1500x0/filters:no_upscale():max_bytes(150000):strip_icc():format(webp)/GettyImages-547031277-58ef97803df78cd3fc724e24.jpg' save=True\n",
        "!yolo predict model=yolov8n.pt source=0\n",
        "\n",
        "# Segmentation:\n",
        "!yolo segment predict  model=yolov8s-seg.pt source='https://ultralytics.com/images/zidane.jpg'\n",
        "\n",
        "#pose detection:\n",
        "!yolo classify predict  model=yolov8s-cls.pt source='https://ultralytics.com/images/zidane.jpg'\n",
        "\n",
        "\n",
        "#add arguments of \"save and show\""
      ],
      "metadata": {
        "colab": {
          "base_uri": "https://localhost:8080/"
        },
        "id": "5q_SsvH7rKyU",
        "outputId": "62885826-7193-494d-ea3f-1c9062c598e0"
      },
      "execution_count": 15,
      "outputs": [
        {
          "output_type": "stream",
          "name": "stdout",
          "text": [
            "WARNING ⚠️ Download failure, retrying 1/3 https://github.com/ultralytics/assets/releases/download/v8.3.0/yolov8n.pt... <urlopen error [SSL: CERTIFICATE_VERIFY_FAILED] certificate verify failed: unable to get local issuer certificate (_ssl.c:1032)>\n",
            "######################################################################### 100.0%\n",
            "Ultralytics 8.3.220 🚀 Python-3.13.7 torch-2.9.0 CPU (Apple M2)\n",
            "YOLOv8n summary (fused): 72 layers, 3,151,904 parameters, 0 gradients, 8.7 GFLOPs\n",
            "\n",
            "WARNING ⚠️ Download failure, retrying 1/3 https://ultralytics.com/images/zidane.jpg... <urlopen error [SSL: CERTIFICATE_VERIFY_FAILED] certificate verify failed: unable to get local issuer certificate (_ssl.c:1032)>\n",
            "######################################################################### 100.0%\n",
            "image 1/1 /Users/sophia/zidane.jpg: 384x640 2 persons, 1 tie, 57.4ms\n",
            "Speed: 5.9ms preprocess, 57.4ms inference, 8.8ms postprocess per image at shape (1, 3, 384, 640)\n",
            "Results saved to \u001b[1m/Users/sophia/runs/detect/predict\u001b[0m\n",
            "💡 Learn more at https://docs.ultralytics.com/modes/predict\n",
            "Ultralytics 8.3.220 🚀 Python-3.13.7 torch-2.9.0 CPU (Apple M2)\n",
            "YOLOv8n summary (fused): 72 layers, 3,151,904 parameters, 0 gradients, 8.7 GFLOPs\n",
            "\n",
            "WARNING ⚠️ Download failure, retrying 1/3 https://www.thoughtco.com/thmb/Hw83C2QW8dWeDUt7R4pYyPke3HI=/1500x0/filters:no_upscale():max_bytes(150000):strip_icc():format(webp)/GettyImages-547031277-58ef97803df78cd3fc724e24.jpg... <urlopen error [SSL: CERTIFICATE_VERIFY_FAILED] certificate verify failed: unable to get local issuer certificate (_ssl.c:1032)>\n",
            "######################################################################### 100.0%\n",
            "image 1/1 /Users/sophia/GettyImages-547031277-58ef97803df78cd3fc724e24.jpg: 448x640 10 cars, 1 truck, 52.7ms\n",
            "Speed: 4.2ms preprocess, 52.7ms inference, 1.1ms postprocess per image at shape (1, 3, 448, 640)\n",
            "Results saved to \u001b[1m/Users/sophia/runs/detect/predict2\u001b[0m\n",
            "💡 Learn more at https://docs.ultralytics.com/modes/predict\n",
            "Ultralytics 8.3.220 🚀 Python-3.13.7 torch-2.9.0 CPU (Apple M2)\n",
            "YOLOv8n summary (fused): 72 layers, 3,151,904 parameters, 0 gradients, 8.7 GFLOPs\n",
            "\n",
            "OpenCV: not authorized to capture video (status 0), requesting...\n",
            "OpenCV: camera failed to properly initialize!\n",
            "Traceback (most recent call last):\n",
            "  File \u001b[35m\"/Library/Frameworks/Python.framework/Versions/3.13/bin/yolo\"\u001b[0m, line \u001b[35m7\u001b[0m, in \u001b[35m<module>\u001b[0m\n",
            "    sys.exit(\u001b[31mentrypoint\u001b[0m\u001b[1;31m()\u001b[0m)\n",
            "             \u001b[31m~~~~~~~~~~\u001b[0m\u001b[1;31m^^\u001b[0m\n",
            "  File \u001b[35m\"/Library/Frameworks/Python.framework/Versions/3.13/lib/python3.13/site-packages/ultralytics/cfg/__init__.py\"\u001b[0m, line \u001b[35m990\u001b[0m, in \u001b[35mentrypoint\u001b[0m\n",
            "    \u001b[31mgetattr(model, mode)\u001b[0m\u001b[1;31m(**overrides)\u001b[0m  # default args from model\n",
            "    \u001b[31m~~~~~~~~~~~~~~~~~~~~\u001b[0m\u001b[1;31m^^^^^^^^^^^^^\u001b[0m\n",
            "  File \u001b[35m\"/Library/Frameworks/Python.framework/Versions/3.13/lib/python3.13/site-packages/ultralytics/engine/model.py\"\u001b[0m, line \u001b[35m557\u001b[0m, in \u001b[35mpredict\u001b[0m\n",
            "    return \u001b[31mself.predictor.predict_cli\u001b[0m\u001b[1;31m(source=source)\u001b[0m if is_cli else self.predictor(source=source, stream=stream)\n",
            "           \u001b[31m~~~~~~~~~~~~~~~~~~~~~~~~~~\u001b[0m\u001b[1;31m^^^^^^^^^^^^^^^\u001b[0m\n",
            "  File \u001b[35m\"/Library/Frameworks/Python.framework/Versions/3.13/lib/python3.13/site-packages/ultralytics/engine/predictor.py\"\u001b[0m, line \u001b[35m250\u001b[0m, in \u001b[35mpredict_cli\u001b[0m\n",
            "    for _ in \u001b[1;31mgen\u001b[0m:  # sourcery skip: remove-empty-nested-block, noqa\n",
            "             \u001b[1;31m^^^\u001b[0m\n",
            "  File \u001b[35m\"/Library/Frameworks/Python.framework/Versions/3.13/lib/python3.13/site-packages/torch/utils/_contextlib.py\"\u001b[0m, line \u001b[35m38\u001b[0m, in \u001b[35mgenerator_context\u001b[0m\n",
            "    response = gen.send(None)\n",
            "  File \u001b[35m\"/Library/Frameworks/Python.framework/Versions/3.13/lib/python3.13/site-packages/ultralytics/engine/predictor.py\"\u001b[0m, line \u001b[35m307\u001b[0m, in \u001b[35mstream_inference\u001b[0m\n",
            "    \u001b[31mself.setup_source\u001b[0m\u001b[1;31m(source if source is not None else self.args.source)\u001b[0m\n",
            "    \u001b[31m~~~~~~~~~~~~~~~~~\u001b[0m\u001b[1;31m^^^^^^^^^^^^^^^^^^^^^^^^^^^^^^^^^^^^^^^^^^^^^^^^^^^^\u001b[0m\n",
            "  File \u001b[35m\"/Library/Frameworks/Python.framework/Versions/3.13/lib/python3.13/site-packages/ultralytics/engine/predictor.py\"\u001b[0m, line \u001b[35m262\u001b[0m, in \u001b[35msetup_source\u001b[0m\n",
            "    self.dataset = \u001b[31mload_inference_source\u001b[0m\u001b[1;31m(\u001b[0m\n",
            "                   \u001b[31m~~~~~~~~~~~~~~~~~~~~~\u001b[0m\u001b[1;31m^\u001b[0m\n",
            "        \u001b[1;31msource=source,\u001b[0m\n",
            "        \u001b[1;31m^^^^^^^^^^^^^^\u001b[0m\n",
            "    ...<3 lines>...\n",
            "        \u001b[1;31mchannels=getattr(self.model, \"ch\", 3),\u001b[0m\n",
            "        \u001b[1;31m^^^^^^^^^^^^^^^^^^^^^^^^^^^^^^^^^^^^^^\u001b[0m\n",
            "    \u001b[1;31m)\u001b[0m\n",
            "    \u001b[1;31m^\u001b[0m\n",
            "  File \u001b[35m\"/Library/Frameworks/Python.framework/Versions/3.13/lib/python3.13/site-packages/ultralytics/data/build.py\"\u001b[0m, line \u001b[35m418\u001b[0m, in \u001b[35mload_inference_source\u001b[0m\n",
            "    dataset = LoadStreams(source, vid_stride=vid_stride, buffer=buffer, channels=channels)\n",
            "  File \u001b[35m\"/Library/Frameworks/Python.framework/Versions/3.13/lib/python3.13/site-packages/ultralytics/data/loaders.py\"\u001b[0m, line \u001b[35m137\u001b[0m, in \u001b[35m__init__\u001b[0m\n",
            "    raise ConnectionError(f\"{st}Failed to open {s}\")\n",
            "\u001b[1;35mConnectionError\u001b[0m: \u001b[35m1/1: 0... Failed to open 0\u001b[0m\n",
            "WARNING ⚠️ Download failure, retrying 1/3 https://github.com/ultralytics/assets/releases/download/v8.3.0/yolov8s-seg.pt... <urlopen error [SSL: CERTIFICATE_VERIFY_FAILED] certificate verify failed: unable to get local issuer certificate (_ssl.c:1032)>\n",
            "######################################################################### 100.0%\n",
            "Ultralytics 8.3.220 🚀 Python-3.13.7 torch-2.9.0 CPU (Apple M2)\n",
            "YOLOv8s-seg summary (fused): 85 layers, 11,810,560 parameters, 0 gradients, 40.1 GFLOPs\n",
            "\n",
            "Found https://ultralytics.com/images/zidane.jpg locally at zidane.jpg\n",
            "image 1/1 /Users/sophia/zidane.jpg: 384x640 2 persons, 2 ties, 130.5ms\n",
            "Speed: 1.1ms preprocess, 130.5ms inference, 4.8ms postprocess per image at shape (1, 3, 384, 640)\n",
            "Results saved to \u001b[1m/Users/sophia/runs/segment/predict\u001b[0m\n",
            "💡 Learn more at https://docs.ultralytics.com/modes/predict\n",
            "WARNING ⚠️ Download failure, retrying 1/3 https://github.com/ultralytics/assets/releases/download/v8.3.0/yolov8s-cls.pt... <urlopen error [SSL: CERTIFICATE_VERIFY_FAILED] certificate verify failed: unable to get local issuer certificate (_ssl.c:1032)>\n",
            "######################################################################### 100.0%\n",
            "Ultralytics 8.3.220 🚀 Python-3.13.7 torch-2.9.0 CPU (Apple M2)\n",
            "YOLOv8s-cls summary (fused): 30 layers, 6,356,200 parameters, 0 gradients, 13.5 GFLOPs\n",
            "\n",
            "Found https://ultralytics.com/images/zidane.jpg locally at zidane.jpg\n",
            "image 1/1 /Users/sophia/zidane.jpg: 224x224 suit 0.59, bulletproof_vest 0.06, groom 0.03, rugby_ball 0.03, Windsor_tie 0.03, 8.8ms\n",
            "Speed: 7.2ms preprocess, 8.8ms inference, 0.0ms postprocess per image at shape (1, 3, 224, 224)\n",
            "Results saved to \u001b[1m/Users/sophia/runs/classify/predict\u001b[0m\n",
            "💡 Learn more at https://docs.ultralytics.com/modes/predict\n"
          ]
        }
      ]
    }
  ]
}